{
  "nbformat": 4,
  "nbformat_minor": 0,
  "metadata": {
    "colab": {
      "provenance": [],
      "authorship_tag": "ABX9TyO/MOmy+YNXlXWHIxRsJdQr",
      "include_colab_link": true
    },
    "kernelspec": {
      "name": "python3",
      "display_name": "Python 3"
    },
    "language_info": {
      "name": "python"
    }
  },
  "cells": [
    {
      "cell_type": "markdown",
      "metadata": {
        "id": "view-in-github",
        "colab_type": "text"
      },
      "source": [
        "<a href=\"https://colab.research.google.com/github/DheniMoura/Python-para-Ciencia-de-Dados/blob/main/Python_para_ci%C3%AAncia_de_dados_parte_06.ipynb\" target=\"_parent\"><img src=\"https://colab.research.google.com/assets/colab-badge.svg\" alt=\"Open In Colab\"/></a>"
      ]
    },
    {
      "cell_type": "markdown",
      "source": [
        "# Raspagem de dados\n",
        "\n",
        "Casos de uso\n",
        "- Automação de e-commerce\n",
        "- Coleta de dados abertos em portais da transparência\n",
        "- Informação de produção de petróleo e gás\n",
        "\n"
      ],
      "metadata": {
        "id": "zc90bzi_DBNp"
      }
    },
    {
      "cell_type": "code",
      "source": [
        "from bs4 import BeautifulSoup"
      ],
      "metadata": {
        "id": "rAfod21QFEJU"
      },
      "execution_count": null,
      "outputs": []
    },
    {
      "cell_type": "markdown",
      "source": [
        "## O objeto BeautifulSoup"
      ],
      "metadata": {
        "id": "ME5Ccf-GFKQh"
      }
    },
    {
      "cell_type": "code",
      "source": [
        "doc_html = '''\n",
        "<html><head><title>Pizza de Dados</title></head>\n",
        "<body>\n",
        "<section id=\"about\">\n",
        "         <div class=\"user-details\">\n",
        "  <p class='title'> Sobre o Pizza de Dados </p>\n",
        "  <p> O Pizza de Dados é uma iniciativa de 3 apaixonados por ciência de dados que viviam discutindo assuntos, links e conselhos de carreira. A vontade de aprender mais e compartilhar conhecimento era comum a todos e a ausência de um canal em português para tratar desses temas, levou à ideia de formar o pizza de dados.</p>\n",
        "\n",
        "  <p> O nome é uma espécie de “homenagem” ao repositório datascience.pizza, que se tornou em pouco tempo uma referência de material de estudos de ciência de dados em português.</p>\n",
        "\n",
        "  <p> Por ser algo feito de forma simples e leve por pessoas que normalmente se enfiam em muitos projetos ao mesmo tempo, o Pizza de Dados tem 3 regras básicas:</p>\n",
        "\n",
        "<ol>\n",
        "    <li>Só vamos fazer isso enquanto estiver divertido para todos;</li>\n",
        "    <li>Não vamos fazer por pressão (de datas, de publicação, de frequência…);</li>\n",
        "    <li>Nem todos os pizzaiolos originais devem estar em um episódio.</li>\n",
        "</ol>\n",
        "\n",
        "  <p> Esperamos que você se divirta, nos dê feedback e aprenda um pouquinho! </p>\n",
        "</div>\n",
        "\n",
        "      </section>\n",
        "    <div class=\"header-links\">\n",
        "        <a class=\"link\" href=\"#about\" data-scroll=\"\">Sobre</a>\n",
        "        <a class=\"link\" href=\"#pizzaiolos\" data-scroll=\"\">Quem somos</a>\n",
        "        <a class=\"link\" target=\"_blank\" href=\"https://medium.com/pizzadedados\">Revista</a>\n",
        "        <a class=\"link\" target=\"_blank\" href=\"https://podcast.pizzadedados.com/\">Episódios</a>\n",
        "        <a class=\"link\" href=\"#vemcomagente\" data-scroll=\"\">Assine</a>\n",
        "        <a class=\"link\" href=\"#vemcomagente\" data-scroll=\"\">Apoie</a>\n",
        "      </div>\n",
        "'''"
      ],
      "metadata": {
        "id": "BfVtqSB3FRgq"
      },
      "execution_count": null,
      "outputs": []
    },
    {
      "cell_type": "code",
      "source": [
        "sopa = BeautifulSoup(doc_html, 'html.parser')\n",
        "print(sopa)"
      ],
      "metadata": {
        "colab": {
          "base_uri": "https://localhost:8080/"
        },
        "id": "MVKuK4ZJIjUO",
        "outputId": "d05fd42a-7aae-4d52-9ea8-d89193b459cc"
      },
      "execution_count": null,
      "outputs": [
        {
          "output_type": "stream",
          "name": "stdout",
          "text": [
            "\n",
            "<html><head><title>Pizza de Dados</title></head>\n",
            "<body>\n",
            "<section id=\"about\">\n",
            "<div class=\"user-details\">\n",
            "<p class=\"title\"> Sobre o Pizza de Dados </p>\n",
            "<p> O Pizza de Dados é uma iniciativa de 3 apaixonados por ciência de dados que viviam discutindo assuntos, links e conselhos de carreira. A vontade de aprender mais e compartilhar conhecimento era comum a todos e a ausência de um canal em português para tratar desses temas, levou à ideia de formar o pizza de dados.</p>\n",
            "<p> O nome é uma espécie de “homenagem” ao repositório datascience.pizza, que se tornou em pouco tempo uma referência de material de estudos de ciência de dados em português.</p>\n",
            "<p> Por ser algo feito de forma simples e leve por pessoas que normalmente se enfiam em muitos projetos ao mesmo tempo, o Pizza de Dados tem 3 regras básicas:</p>\n",
            "<ol>\n",
            "<li>Só vamos fazer isso enquanto estiver divertido para todos;</li>\n",
            "<li>Não vamos fazer por pressão (de datas, de publicação, de frequência…);</li>\n",
            "<li>Nem todos os pizzaiolos originais devem estar em um episódio.</li>\n",
            "</ol>\n",
            "<p> Esperamos que você se divirta, nos dê feedback e aprenda um pouquinho! </p>\n",
            "</div>\n",
            "</section>\n",
            "<div class=\"header-links\">\n",
            "<a class=\"link\" data-scroll=\"\" href=\"#about\">Sobre</a>\n",
            "<a class=\"link\" data-scroll=\"\" href=\"#pizzaiolos\">Quem somos</a>\n",
            "<a class=\"link\" href=\"https://medium.com/pizzadedados\" target=\"_blank\">Revista</a>\n",
            "<a class=\"link\" href=\"https://podcast.pizzadedados.com/\" target=\"_blank\">Episódios</a>\n",
            "<a class=\"link\" data-scroll=\"\" href=\"#vemcomagente\">Assine</a>\n",
            "<a class=\"link\" data-scroll=\"\" href=\"#vemcomagente\">Apoie</a>\n",
            "</div>\n",
            "</body></html>\n"
          ]
        }
      ]
    },
    {
      "cell_type": "code",
      "source": [
        "print(sopa.prettify()[:400])"
      ],
      "metadata": {
        "colab": {
          "base_uri": "https://localhost:8080/"
        },
        "id": "E9jVlQ3ZIyfN",
        "outputId": "93525183-147f-4e80-a11b-26de0293f12c"
      },
      "execution_count": null,
      "outputs": [
        {
          "output_type": "stream",
          "name": "stdout",
          "text": [
            "<html>\n",
            " <head>\n",
            "  <title>\n",
            "   Pizza de Dados\n",
            "  </title>\n",
            " </head>\n",
            " <body>\n",
            "  <section id=\"about\">\n",
            "   <div class=\"user-details\">\n",
            "    <p class=\"title\">\n",
            "     Sobre o Pizza de Dados\n",
            "    </p>\n",
            "    <p>\n",
            "     O Pizza de Dados é uma iniciativa de 3 apaixonados por ciência de dados que viviam discutindo assuntos, links e conselhos de carreira. A vontade de aprender mais e compartilhar conhecimento era comum a to\n"
          ]
        }
      ]
    },
    {
      "cell_type": "markdown",
      "source": [
        "## Objetos Tag"
      ],
      "metadata": {
        "id": "dDqmDc0YIu3K"
      }
    },
    {
      "cell_type": "markdown",
      "source": [
        "### Trabalhando com nomes"
      ],
      "metadata": {
        "id": "_IdEdjMuI8L2"
      }
    },
    {
      "cell_type": "code",
      "source": [
        "sopa = BeautifulSoup('<b body=\"description\">O primeiro e o mais querido podcast sobre ciência de dados no Brasil</b>',\n",
        "                     'html.parser')\n",
        "\n",
        "tag = sopa.b\n",
        "type(tag)"
      ],
      "metadata": {
        "colab": {
          "base_uri": "https://localhost:8080/"
        },
        "id": "cIYKN0STI-RX",
        "outputId": "9de34801-0bbd-4f6a-8048-57c05d66b468"
      },
      "execution_count": null,
      "outputs": [
        {
          "output_type": "execute_result",
          "data": {
            "text/plain": [
              "bs4.element.Tag"
            ]
          },
          "metadata": {},
          "execution_count": 21
        }
      ]
    },
    {
      "cell_type": "code",
      "source": [
        "tag.name #ver o nome da tag"
      ],
      "metadata": {
        "colab": {
          "base_uri": "https://localhost:8080/",
          "height": 35
        },
        "id": "7-wGPp-GJRGO",
        "outputId": "baa11fa7-560c-4a86-fc4f-4084f467260a"
      },
      "execution_count": null,
      "outputs": [
        {
          "output_type": "execute_result",
          "data": {
            "text/plain": [
              "'b'"
            ],
            "application/vnd.google.colaboratory.intrinsic+json": {
              "type": "string"
            }
          },
          "metadata": {},
          "execution_count": 22
        }
      ]
    },
    {
      "cell_type": "code",
      "source": [
        "tag.name = 'podcast'\n"
      ],
      "metadata": {
        "id": "gJ-l_XUUJSgW"
      },
      "execution_count": null,
      "outputs": []
    },
    {
      "cell_type": "code",
      "source": [
        "tag # mudou de 'b body' para 'podcast body'"
      ],
      "metadata": {
        "colab": {
          "base_uri": "https://localhost:8080/"
        },
        "id": "MiwkRueEJZ-o",
        "outputId": "b2c1eb62-2d8b-4aad-93b9-8c58675f5f02"
      },
      "execution_count": null,
      "outputs": [
        {
          "output_type": "execute_result",
          "data": {
            "text/plain": [
              "<podcast body=\"description\">O primeiro e o mais querido podcast sobre ciência de dados no Brasil</podcast>"
            ]
          },
          "metadata": {},
          "execution_count": 24
        }
      ]
    },
    {
      "cell_type": "code",
      "source": [
        "tag.name"
      ],
      "metadata": {
        "colab": {
          "base_uri": "https://localhost:8080/",
          "height": 35
        },
        "id": "CjyzXvtRP8m5",
        "outputId": "4a6d0738-345a-4fa0-ce92-545c1f368d84"
      },
      "execution_count": null,
      "outputs": [
        {
          "output_type": "execute_result",
          "data": {
            "text/plain": [
              "'podcast'"
            ],
            "application/vnd.google.colaboratory.intrinsic+json": {
              "type": "string"
            }
          },
          "metadata": {},
          "execution_count": 25
        }
      ]
    },
    {
      "cell_type": "markdown",
      "source": [
        "### Trabalhando com atributos"
      ],
      "metadata": {
        "id": "NWscrs1PP_w0"
      }
    },
    {
      "cell_type": "code",
      "source": [
        "tag['body']"
      ],
      "metadata": {
        "colab": {
          "base_uri": "https://localhost:8080/",
          "height": 35
        },
        "id": "IheJWH3QQDiF",
        "outputId": "4f2638dd-bbf3-4d9e-d57a-2e98ecd81fed"
      },
      "execution_count": null,
      "outputs": [
        {
          "output_type": "execute_result",
          "data": {
            "text/plain": [
              "'description'"
            ],
            "application/vnd.google.colaboratory.intrinsic+json": {
              "type": "string"
            }
          },
          "metadata": {},
          "execution_count": 26
        }
      ]
    },
    {
      "cell_type": "code",
      "source": [
        "tag.attrs"
      ],
      "metadata": {
        "colab": {
          "base_uri": "https://localhost:8080/"
        },
        "id": "W--yeI4iQGww",
        "outputId": "f8e6cb7f-17e5-4d4a-da86-2d5cc06aefcf"
      },
      "execution_count": null,
      "outputs": [
        {
          "output_type": "execute_result",
          "data": {
            "text/plain": [
              "{'body': 'description'}"
            ]
          },
          "metadata": {},
          "execution_count": 27
        }
      ]
    },
    {
      "cell_type": "code",
      "source": [
        "#criando novos atributos\n",
        "tag['id'] = 3\n",
        "tag.attrs"
      ],
      "metadata": {
        "colab": {
          "base_uri": "https://localhost:8080/"
        },
        "id": "A4Bu1EkCQJaL",
        "outputId": "c7e28678-1ccb-4e8e-f1d4-b098f86df9b9"
      },
      "execution_count": null,
      "outputs": [
        {
          "output_type": "execute_result",
          "data": {
            "text/plain": [
              "{'body': 'description', 'id': 3}"
            ]
          },
          "metadata": {},
          "execution_count": 28
        }
      ]
    },
    {
      "cell_type": "code",
      "source": [
        "tag\n"
      ],
      "metadata": {
        "colab": {
          "base_uri": "https://localhost:8080/"
        },
        "id": "KjSmb0zZQYrr",
        "outputId": "61f31cb2-eea4-42ee-d2fb-ce30b134907e"
      },
      "execution_count": null,
      "outputs": [
        {
          "output_type": "execute_result",
          "data": {
            "text/plain": [
              "<podcast body=\"description\" id=\"3\">O primeiro e o mais querido podcast sobre ciência de dados no Brasil</podcast>"
            ]
          },
          "metadata": {},
          "execution_count": 29
        }
      ]
    },
    {
      "cell_type": "code",
      "source": [
        "#remover atributos\n",
        "del tag['body']\n",
        "tag.attrs"
      ],
      "metadata": {
        "colab": {
          "base_uri": "https://localhost:8080/"
        },
        "id": "V9LOpWzRQZ_A",
        "outputId": "c83c5a13-1c12-4343-de0e-dfac6700223e"
      },
      "execution_count": null,
      "outputs": [
        {
          "output_type": "execute_result",
          "data": {
            "text/plain": [
              "{'id': 3}"
            ]
          },
          "metadata": {},
          "execution_count": 30
        }
      ]
    },
    {
      "cell_type": "code",
      "source": [
        "tag"
      ],
      "metadata": {
        "colab": {
          "base_uri": "https://localhost:8080/"
        },
        "id": "nGR6WRVbQmcL",
        "outputId": "c8352bc4-40e4-41ea-ef92-9bce297bc6bc"
      },
      "execution_count": null,
      "outputs": [
        {
          "output_type": "execute_result",
          "data": {
            "text/plain": [
              "<podcast id=\"3\">O primeiro e o mais querido podcast sobre ciência de dados no Brasil</podcast>"
            ]
          },
          "metadata": {},
          "execution_count": 31
        }
      ]
    },
    {
      "cell_type": "markdown",
      "source": [
        "### Usando tags"
      ],
      "metadata": {
        "id": "Ge34vcUQQp16"
      }
    },
    {
      "cell_type": "code",
      "source": [
        "sopa = BeautifulSoup(doc_html, 'html.parser')\n",
        "sopa.title"
      ],
      "metadata": {
        "colab": {
          "base_uri": "https://localhost:8080/"
        },
        "id": "lpLavRmVQrUo",
        "outputId": "90b83aef-fbfe-4762-f418-dfc8a96784bd"
      },
      "execution_count": null,
      "outputs": [
        {
          "output_type": "execute_result",
          "data": {
            "text/plain": [
              "<title>Pizza de Dados</title>"
            ]
          },
          "metadata": {},
          "execution_count": 32
        }
      ]
    },
    {
      "cell_type": "code",
      "source": [
        "sopa.body"
      ],
      "metadata": {
        "colab": {
          "base_uri": "https://localhost:8080/"
        },
        "id": "KWrK6v7-QzSx",
        "outputId": "f2b5c1ea-e34e-4fdd-964d-ededfb8fee9d"
      },
      "execution_count": null,
      "outputs": [
        {
          "output_type": "execute_result",
          "data": {
            "text/plain": [
              "<body>\n",
              "<section id=\"about\">\n",
              "<div class=\"user-details\">\n",
              "<p class=\"title\"> Sobre o Pizza de Dados </p>\n",
              "<p> O Pizza de Dados é uma iniciativa de 3 apaixonados por ciência de dados que viviam discutindo assuntos, links e conselhos de carreira. A vontade de aprender mais e compartilhar conhecimento era comum a todos e a ausência de um canal em português para tratar desses temas, levou à ideia de formar o pizza de dados.</p>\n",
              "<p> O nome é uma espécie de “homenagem” ao repositório datascience.pizza, que se tornou em pouco tempo uma referência de material de estudos de ciência de dados em português.</p>\n",
              "<p> Por ser algo feito de forma simples e leve por pessoas que normalmente se enfiam em muitos projetos ao mesmo tempo, o Pizza de Dados tem 3 regras básicas:</p>\n",
              "<ol>\n",
              "<li>Só vamos fazer isso enquanto estiver divertido para todos;</li>\n",
              "<li>Não vamos fazer por pressão (de datas, de publicação, de frequência…);</li>\n",
              "<li>Nem todos os pizzaiolos originais devem estar em um episódio.</li>\n",
              "</ol>\n",
              "<p> Esperamos que você se divirta, nos dê feedback e aprenda um pouquinho! </p>\n",
              "</div>\n",
              "</section>\n",
              "<div class=\"header-links\">\n",
              "<a class=\"link\" data-scroll=\"\" href=\"#about\">Sobre</a>\n",
              "<a class=\"link\" data-scroll=\"\" href=\"#pizzaiolos\">Quem somos</a>\n",
              "<a class=\"link\" href=\"https://medium.com/pizzadedados\" target=\"_blank\">Revista</a>\n",
              "<a class=\"link\" href=\"https://podcast.pizzadedados.com/\" target=\"_blank\">Episódios</a>\n",
              "<a class=\"link\" data-scroll=\"\" href=\"#vemcomagente\">Assine</a>\n",
              "<a class=\"link\" data-scroll=\"\" href=\"#vemcomagente\">Apoie</a>\n",
              "</div>\n",
              "</body>"
            ]
          },
          "metadata": {},
          "execution_count": 33
        }
      ]
    },
    {
      "cell_type": "code",
      "source": [
        "sopa.ol"
      ],
      "metadata": {
        "id": "j-Z-DOVxQ1Q_",
        "outputId": "629d1c6e-37ff-4ada-89ed-400b83d492c3",
        "colab": {
          "base_uri": "https://localhost:8080/"
        }
      },
      "execution_count": null,
      "outputs": [
        {
          "output_type": "execute_result",
          "data": {
            "text/plain": [
              "<ol>\n",
              "<li>Só vamos fazer isso enquanto estiver divertido para todos;</li>\n",
              "<li>Não vamos fazer por pressão (de datas, de publicação, de frequência…);</li>\n",
              "<li>Nem todos os pizzaiolos originais devem estar em um episódio.</li>\n",
              "</ol>"
            ]
          },
          "metadata": {},
          "execution_count": 34
        }
      ]
    },
    {
      "cell_type": "markdown",
      "source": [
        "# Parseando dados"
      ],
      "metadata": {
        "id": "N-QqhWsLQIxq"
      }
    },
    {
      "cell_type": "code",
      "source": [
        "from bs4 import BeautifulSoup\n",
        "\n",
        "import re\n"
      ],
      "metadata": {
        "id": "5sBQfJHRQL7V"
      },
      "execution_count": null,
      "outputs": []
    },
    {
      "cell_type": "code",
      "source": [
        "doc_html = '''\n",
        "<html><head><title>Pizza de Dados</title></head>\n",
        "<body>\n",
        "<section id=\"about\">\n",
        "         <div class=\"user-details\">\n",
        "  <p class='title'> Sobre o Pizza de Dados </p>\n",
        "  <p> O Pizza de Dados é uma iniciativa de 3 apaixonados por ciência de dados que viviam discutindo assuntos, links e conselhos de carreira. A vontade de aprender mais e compartilhar conhecimento era comum a todos e a ausência de um canal em português para tratar desses temas, levou à ideia de formar o pizza de dados.</p>\n",
        "\n",
        "  <p> O nome é uma espécie de “homenagem” ao repositório datascience.pizza, que se tornou em pouco tempo uma referência de material de estudos de ciência de dados em português.</p>\n",
        "\n",
        "  <p> Por ser algo feito de forma simples e leve por pessoas que normalmente se enfiam em muitos projetos ao mesmo tempo, o Pizza de Dados tem 3 regras básicas:</p>\n",
        "\n",
        "<ol>\n",
        "    <li>Só vamos fazer isso enquanto estiver divertido para todos;</li>\n",
        "    <li>Não vamos fazer por pressão (de datas, de publicação, de frequência…);</li>\n",
        "    <li>Nem todos os pizzaiolos originais devem estar em um episódio.</li>\n",
        "</ol>\n",
        "\n",
        "  <p> Esperamos que você se divirta, nos dê feedback e aprenda um pouquinho! </p>\n",
        "</div>\n",
        "\n",
        "      </section>\n",
        "    <div class=\"header-links\">\n",
        "        <a class=\"link\" href=\"#about\" data-scroll=\"\">Sobre</a>\n",
        "        <a class=\"link\" href=\"#pizzaiolos\" data-scroll=\"\">Quem somos</a>\n",
        "        <a class=\"link\" target=\"_blank\" href=\"https://medium.com/pizzadedados\">Revista</a>\n",
        "        <a class=\"link\" target=\"_blank\" href=\"https://podcast.pizzadedados.com/\">Episódios</a>\n",
        "        <a class=\"link\" href=\"#vemcomagente\" data-scroll=\"\">Assine</a>\n",
        "        <a class=\"link\" href=\"#vemcomagente\" data-scroll=\"\">Apoie</a>\n",
        "      </div>\n",
        "'''"
      ],
      "metadata": {
        "id": "w9JGELv-QTs4"
      },
      "execution_count": null,
      "outputs": []
    },
    {
      "cell_type": "code",
      "source": [
        "sopa = BeautifulSoup(doc_html, 'html.parser')\n",
        "# a vairavel sopa é uma árvora parseada"
      ],
      "metadata": {
        "id": "JHj3gg69QlzN"
      },
      "execution_count": null,
      "outputs": []
    },
    {
      "cell_type": "markdown",
      "source": [
        "## Pegando dados de uma árvore"
      ],
      "metadata": {
        "id": "R7agJTWmQ1tA"
      }
    },
    {
      "cell_type": "code",
      "source": [
        "apenas_texto = sopa.get_text()\n",
        "print(apenas_texto)"
      ],
      "metadata": {
        "colab": {
          "base_uri": "https://localhost:8080/"
        },
        "id": "W2-xJeFVQ3_3",
        "outputId": "0bc1887d-234d-4620-a381-d08861339b88"
      },
      "execution_count": null,
      "outputs": [
        {
          "output_type": "stream",
          "name": "stdout",
          "text": [
            "\n",
            "Pizza de Dados\n",
            "\n",
            "\n",
            "\n",
            " Sobre o Pizza de Dados \n",
            " O Pizza de Dados é uma iniciativa de 3 apaixonados por ciência de dados que viviam discutindo assuntos, links e conselhos de carreira. A vontade de aprender mais e compartilhar conhecimento era comum a todos e a ausência de um canal em português para tratar desses temas, levou à ideia de formar o pizza de dados.\n",
            " O nome é uma espécie de “homenagem” ao repositório datascience.pizza, que se tornou em pouco tempo uma referência de material de estudos de ciência de dados em português.\n",
            " Por ser algo feito de forma simples e leve por pessoas que normalmente se enfiam em muitos projetos ao mesmo tempo, o Pizza de Dados tem 3 regras básicas:\n",
            "\n",
            "Só vamos fazer isso enquanto estiver divertido para todos;\n",
            "Não vamos fazer por pressão (de datas, de publicação, de frequência…);\n",
            "Nem todos os pizzaiolos originais devem estar em um episódio.\n",
            "\n",
            " Esperamos que você se divirta, nos dê feedback e aprenda um pouquinho! \n",
            "\n",
            "\n",
            "\n",
            "Sobre\n",
            "Quem somos\n",
            "Revista\n",
            "Episódios\n",
            "Assine\n",
            "Apoie\n",
            "\n",
            "\n"
          ]
        }
      ]
    },
    {
      "cell_type": "markdown",
      "source": [
        "## Buscando e reavendo dados de uma árvore"
      ],
      "metadata": {
        "id": "KMbllBc9RAYx"
      }
    },
    {
      "cell_type": "markdown",
      "source": [
        "### Reavendo tags por meio de filtros"
      ],
      "metadata": {
        "id": "rIanPmh2RDxL"
      }
    },
    {
      "cell_type": "code",
      "source": [
        "sopa.find_all(id='link 4')"
      ],
      "metadata": {
        "colab": {
          "base_uri": "https://localhost:8080/"
        },
        "id": "o_Z2tP6CRG1G",
        "outputId": "c08c72e5-20d2-4e22-9858-cfd3a1c64acd"
      },
      "execution_count": null,
      "outputs": [
        {
          "output_type": "execute_result",
          "data": {
            "text/plain": [
              "[]"
            ]
          },
          "metadata": {},
          "execution_count": 8
        }
      ]
    },
    {
      "cell_type": "markdown",
      "source": [
        "### Reavendo tags por meio de filtros usando listas"
      ],
      "metadata": {
        "id": "5QPpScO0RS99"
      }
    },
    {
      "cell_type": "code",
      "source": [
        "sopa.find_all(['ol', 'p'])"
      ],
      "metadata": {
        "colab": {
          "base_uri": "https://localhost:8080/"
        },
        "id": "LTSd2p6WRZCV",
        "outputId": "2f02967b-c4db-4bd0-f3a4-aa12bebe3c79"
      },
      "execution_count": null,
      "outputs": [
        {
          "output_type": "execute_result",
          "data": {
            "text/plain": [
              "[<p class=\"title\"> Sobre o Pizza de Dados </p>,\n",
              " <p> O Pizza de Dados é uma iniciativa de 3 apaixonados por ciência de dados que viviam discutindo assuntos, links e conselhos de carreira. A vontade de aprender mais e compartilhar conhecimento era comum a todos e a ausência de um canal em português para tratar desses temas, levou à ideia de formar o pizza de dados.</p>,\n",
              " <p> O nome é uma espécie de “homenagem” ao repositório datascience.pizza, que se tornou em pouco tempo uma referência de material de estudos de ciência de dados em português.</p>,\n",
              " <p> Por ser algo feito de forma simples e leve por pessoas que normalmente se enfiam em muitos projetos ao mesmo tempo, o Pizza de Dados tem 3 regras básicas:</p>,\n",
              " <ol>\n",
              " <li>Só vamos fazer isso enquanto estiver divertido para todos;</li>\n",
              " <li>Não vamos fazer por pressão (de datas, de publicação, de frequência…);</li>\n",
              " <li>Nem todos os pizzaiolos originais devem estar em um episódio.</li>\n",
              " </ol>,\n",
              " <p> Esperamos que você se divirta, nos dê feedback e aprenda um pouquinho! </p>]"
            ]
          },
          "metadata": {},
          "execution_count": 9
        }
      ]
    },
    {
      "cell_type": "markdown",
      "source": [
        "### Reavendo tags usando regex"
      ],
      "metadata": {
        "id": "5X_IFl82ReVk"
      }
    },
    {
      "cell_type": "code",
      "source": [
        "l = re.compile('l')\n",
        "for tag in sopa.find_all(l):\n",
        "  print(tag.name)"
      ],
      "metadata": {
        "colab": {
          "base_uri": "https://localhost:8080/"
        },
        "id": "72YozoZORgVN",
        "outputId": "5684a77a-01af-45d1-fdc6-08941d129acd"
      },
      "execution_count": null,
      "outputs": [
        {
          "output_type": "stream",
          "name": "stdout",
          "text": [
            "html\n",
            "title\n",
            "ol\n",
            "li\n",
            "li\n",
            "li\n"
          ]
        }
      ]
    },
    {
      "cell_type": "markdown",
      "source": [
        "### Reavendo tags usando valores boleanos"
      ],
      "metadata": {
        "id": "nhcdkuKjRvaa"
      }
    },
    {
      "cell_type": "code",
      "source": [
        "for tag in sopa.find_all(True):\n",
        "  print(tag.name) # nesse caso encontra todas as tags"
      ],
      "metadata": {
        "colab": {
          "base_uri": "https://localhost:8080/"
        },
        "id": "mKJzJrOqRyZP",
        "outputId": "b88e9190-fed1-4a6f-db3e-eed0f828f3bf"
      },
      "execution_count": null,
      "outputs": [
        {
          "output_type": "stream",
          "name": "stdout",
          "text": [
            "html\n",
            "head\n",
            "title\n",
            "body\n",
            "section\n",
            "div\n",
            "p\n",
            "p\n",
            "p\n",
            "p\n",
            "ol\n",
            "li\n",
            "li\n",
            "li\n",
            "p\n",
            "div\n",
            "a\n",
            "a\n",
            "a\n",
            "a\n",
            "a\n",
            "a\n"
          ]
        }
      ]
    },
    {
      "cell_type": "markdown",
      "source": [
        "### Reavendo tags usando strings"
      ],
      "metadata": {
        "id": "0xHBNlTtR6pE"
      }
    },
    {
      "cell_type": "code",
      "source": [
        "for link in sopa.find_all('a'):\n",
        "  print(link.get('href'))"
      ],
      "metadata": {
        "colab": {
          "base_uri": "https://localhost:8080/"
        },
        "id": "2Zwd09-wR82Z",
        "outputId": "e7bd9e3c-734c-4cba-9b28-52f37ef8bdc0"
      },
      "execution_count": null,
      "outputs": [
        {
          "output_type": "stream",
          "name": "stdout",
          "text": [
            "#about\n",
            "#pizzaiolos\n",
            "https://medium.com/pizzadedados\n",
            "https://podcast.pizzadedados.com/\n",
            "#vemcomagente\n",
            "#vemcomagente\n"
          ]
        }
      ]
    },
    {
      "cell_type": "markdown",
      "source": [
        "### Reavendo tags usando regex"
      ],
      "metadata": {
        "id": "ciYCT6_HSIJX"
      }
    },
    {
      "cell_type": "code",
      "source": [
        "sopa.find_all(string=re.compile(\"ciência\"))"
      ],
      "metadata": {
        "colab": {
          "base_uri": "https://localhost:8080/"
        },
        "id": "loDGGk8GSLPa",
        "outputId": "eea4496e-2cdf-428a-fedf-5368fbf9de8f"
      },
      "execution_count": null,
      "outputs": [
        {
          "output_type": "execute_result",
          "data": {
            "text/plain": [
              "[' O Pizza de Dados é uma iniciativa de 3 apaixonados por ciência de dados que viviam discutindo assuntos, links e conselhos de carreira. A vontade de aprender mais e compartilhar conhecimento era comum a todos e a ausência de um canal em português para tratar desses temas, levou à ideia de formar o pizza de dados.',\n",
              " ' O nome é uma espécie de “homenagem” ao repositório datascience.pizza, que se tornou em pouco tempo uma referência de material de estudos de ciência de dados em português.']"
            ]
          },
          "metadata": {},
          "execution_count": 14
        }
      ]
    },
    {
      "cell_type": "markdown",
      "source": [
        "# Raspagem de dados na prática\n"
      ],
      "metadata": {
        "id": "zX5BX8gTJV22"
      }
    },
    {
      "cell_type": "code",
      "source": [
        "import re\n",
        "from bs4 import BeautifulSoup\n",
        "from requests import get"
      ],
      "metadata": {
        "id": "3k_hODjpJewx"
      },
      "execution_count": 3,
      "outputs": []
    },
    {
      "cell_type": "code",
      "source": [
        "r = get('https://pizzadedados.com')"
      ],
      "metadata": {
        "id": "sw16o29KJocZ"
      },
      "execution_count": 4,
      "outputs": []
    },
    {
      "cell_type": "code",
      "source": [
        "sopa = BeautifulSoup(r.content.decode('utf-8'), 'html.parser')"
      ],
      "metadata": {
        "id": "sylyFALgJvGD"
      },
      "execution_count": 5,
      "outputs": []
    },
    {
      "cell_type": "markdown",
      "source": [
        "## Raspando dados"
      ],
      "metadata": {
        "id": "tX5RSuynJ_so"
      }
    },
    {
      "cell_type": "code",
      "source": [
        "# visualizando os cem primeiros caracteres da busca\n",
        "print(sopa.prettify()[:100])"
      ],
      "metadata": {
        "colab": {
          "base_uri": "https://localhost:8080/"
        },
        "id": "k71SY-bGKBLj",
        "outputId": "155df352-7461-40f7-d4b1-04ecd299c49b"
      },
      "execution_count": 6,
      "outputs": [
        {
          "output_type": "stream",
          "name": "stdout",
          "text": [
            "<!DOCTYPE html>\n",
            "<html lang=\"pt-br\">\n",
            " <head>\n",
            "  <meta charset=\"utf-8\"/>\n",
            "  <meta content=\"IE=edge\" http\n"
          ]
        }
      ]
    },
    {
      "cell_type": "code",
      "source": [
        "# método find_all() para pesquisar os links que existem na página\n",
        "for link in sopa.find_all('a'):\n",
        "  print(link.get('href'))"
      ],
      "metadata": {
        "colab": {
          "base_uri": "https://localhost:8080/"
        },
        "id": "t8wumXN7KOZw",
        "outputId": "c9a86990-454c-4e66-ec7b-c8a6cccfefb0"
      },
      "execution_count": 7,
      "outputs": [
        {
          "output_type": "stream",
          "name": "stdout",
          "text": [
            "/cdn-cgi/l/email-protection#a2d2cbd8d8c3c6c7c6c3c6cdd1e2c5cfc3cbce8cc1cdcf\n",
            "https://twitter.com/pizzadedados\n",
            "https://fb.com/pizzadedados\n",
            "https://youtube.com/c/pizzadedados\n",
            "https://www.instagram.com/pizzadedados\n",
            "https://github.com/pizzadedados\n",
            "#about\n",
            "#pizzaiolos\n",
            "https://medium.com/pizzadedados\n",
            "https://podcast.pizzadedados.com/\n",
            "#vemcomagente\n",
            "#vemcomagente\n",
            "/en\n",
            "#about\n",
            "https://guia.datascience.pizza/\n",
            "https://leportella.com\n",
            "https://jtemporal.com\n",
            "https://gusrabbit.com\n",
            "https://itunes.apple.com/us/podcast/pizza-de-dados/id1323137071\n",
            "https://open.spotify.com/show/5k0Ei0MSg5BuiHshr43aSg\n",
            "https://feeds.feedburner.com/PizzaDeDados\n",
            "https://apoia.se/pizzadedados\n",
            "https://databootcamp.com.br\n",
            "https://databootcamp.com.br\n",
            "https://github.com/nrandecker\n"
          ]
        }
      ]
    },
    {
      "cell_type": "code",
      "source": [
        "# montando uma regex para buscar apenas os links que começas com http\n",
        "parametros_busca= {'href':re.compile('^http')}\n",
        "for link in sopa.find_all('a', attrs=parametros_busca):\n",
        "  print(link)"
      ],
      "metadata": {
        "colab": {
          "base_uri": "https://localhost:8080/"
        },
        "id": "I6mUQI3qKirr",
        "outputId": "3b69693f-452f-4276-c409-b9195dbec1e6"
      },
      "execution_count": 8,
      "outputs": [
        {
          "output_type": "stream",
          "name": "stdout",
          "text": [
            "<a aria-label=\"Twitter\" href=\"https://twitter.com/pizzadedados\" target=\"_blank\"><i aria-hidden=\"true\" class=\"icon fa fa-twitter\"></i></a>\n",
            "<a aria-label=\"Facebook\" href=\"https://fb.com/pizzadedados\" target=\"_blank\"><i aria-hidden=\"true\" class=\"icon fa fa-facebook-square\"></i></a>\n",
            "<a aria-label=\"YouTube\" href=\"https://youtube.com/c/pizzadedados\" target=\"_blank\"><i aria-hidden=\"true\" class=\"icon fa fa-youtube-play\"></i></a>\n",
            "<a aria-label=\"Instagram\" href=\"https://www.instagram.com/pizzadedados\" target=\"_blank\"><i aria-hidden=\"true\" class=\"icon fa fa-instagram\"></i></a>\n",
            "<a aria-label=\"Github\" href=\"https://github.com/pizzadedados\" target=\"_blank\"><i aria-hidden=\"true\" class=\"icon fa fa-github-alt\"></i></a>\n",
            "<a class=\"link\" href=\"https://medium.com/pizzadedados\" target=\"_blank\">Revista</a>\n",
            "<a class=\"link\" href=\"https://podcast.pizzadedados.com/\" target=\"_blank\">Episódios</a>\n",
            "<a href=\"https://guia.datascience.pizza/\">datascience.pizza</a>\n",
            "<a class=\"project-link\" href=\"https://leportella.com\">Site</a>\n",
            "<a class=\"project-link\" href=\"https://jtemporal.com\">Site</a>\n",
            "<a class=\"project-link\" href=\"https://gusrabbit.com\">Site</a>\n",
            "<a class=\"project-link\" href=\"https://itunes.apple.com/us/podcast/pizza-de-dados/id1323137071\">\n",
            "<i class=\"icon fa fa-podcast\"></i>  iTunes\r\n",
            "        </a>\n",
            "<a class=\"project-link\" href=\"https://open.spotify.com/show/5k0Ei0MSg5BuiHshr43aSg\">\n",
            "<i class=\"icon fa fa-spotify\"></i>  Spotify\r\n",
            "        </a>\n",
            "<a class=\"project-link\" href=\"https://feeds.feedburner.com/PizzaDeDados\">\n",
            "<i class=\"icon fa fa-rss\"></i>  RSS\r\n",
            "        </a>\n",
            "<a class=\"project-link\" href=\"https://apoia.se/pizzadedados\">Para a campanha</a>\n",
            "<a href=\"https://databootcamp.com.br\">Data Bootcamp</a>\n",
            "<a href=\"https://databootcamp.com.br\"><img src=\"https://databootcamp.com.br/static/img/logo.png\" style=\"background: #1f2845;\"/></a>\n",
            "<a href=\"https://github.com/nrandecker\">Nathan Randecker</a>\n"
          ]
        }
      ]
    },
    {
      "cell_type": "code",
      "source": [
        "# limpeza dos dados/links\n",
        "file = open('pizza_data.txt', 'w')\n",
        "for link in sopa.find_all('a', attrs=parametros_busca):\n",
        "  sopa_link = str(link.get('href'))\n",
        "  print(sopa_link)\n",
        "  file.write(sopa_link)\n",
        "  file.write('\\n')\n",
        "\n",
        "file.flush() # garantir o término da escrita\n",
        "file.close()"
      ],
      "metadata": {
        "colab": {
          "base_uri": "https://localhost:8080/"
        },
        "id": "MjkuDhyALFXB",
        "outputId": "49b982c1-e809-4089-a722-e5351c45fa67"
      },
      "execution_count": 9,
      "outputs": [
        {
          "output_type": "stream",
          "name": "stdout",
          "text": [
            "https://twitter.com/pizzadedados\n",
            "https://fb.com/pizzadedados\n",
            "https://youtube.com/c/pizzadedados\n",
            "https://www.instagram.com/pizzadedados\n",
            "https://github.com/pizzadedados\n",
            "https://medium.com/pizzadedados\n",
            "https://podcast.pizzadedados.com/\n",
            "https://guia.datascience.pizza/\n",
            "https://leportella.com\n",
            "https://jtemporal.com\n",
            "https://gusrabbit.com\n",
            "https://itunes.apple.com/us/podcast/pizza-de-dados/id1323137071\n",
            "https://open.spotify.com/show/5k0Ei0MSg5BuiHshr43aSg\n",
            "https://feeds.feedburner.com/PizzaDeDados\n",
            "https://apoia.se/pizzadedados\n",
            "https://databootcamp.com.br\n",
            "https://databootcamp.com.br\n",
            "https://github.com/nrandecker\n"
          ]
        }
      ]
    },
    {
      "cell_type": "code",
      "source": [
        "ls\n"
      ],
      "metadata": {
        "colab": {
          "base_uri": "https://localhost:8080/"
        },
        "id": "1-7k88KcL2w6",
        "outputId": "09ff9616-13ab-4432-9177-713e32e3f1cd"
      },
      "execution_count": 10,
      "outputs": [
        {
          "output_type": "stream",
          "name": "stdout",
          "text": [
            "pizza_data.txt  \u001b[0m\u001b[01;34msample_data\u001b[0m/\n"
          ]
        }
      ]
    }
  ]
}